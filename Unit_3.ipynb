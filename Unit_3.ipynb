{
 "cells": [
  {
   "cell_type": "code",
   "execution_count": 1,
   "metadata": {},
   "outputs": [
    {
     "name": "stdout",
     "output_type": "stream",
     "text": [
      "Hello, Prashant Good Morning\n"
     ]
    }
   ],
   "source": [
    "def wish(name):\n",
    "    print(\"Hello,\",name,\"Good Morning\")\n",
    "\n",
    "wish(\"Prashant\")"
   ]
  },
  {
   "cell_type": "code",
   "execution_count": 2,
   "metadata": {},
   "outputs": [
    {
     "name": "stdout",
     "output_type": "stream",
     "text": [
      "Enter your name : prashant\n",
      "prashant\n"
     ]
    }
   ],
   "source": [
    "# Type of user Defind function\n",
    "\n",
    "# function with no parameter and no return value\n",
    "\n",
    "def printline():\n",
    "    name = input(\"Enter your name : \")\n",
    "    print(name)\n",
    "    \n",
    "printline()"
   ]
  },
  {
   "cell_type": "code",
   "execution_count": 3,
   "metadata": {},
   "outputs": [
    {
     "name": "stdout",
     "output_type": "stream",
     "text": [
      "Enter your name : prashant\n",
      "prashant\n"
     ]
    }
   ],
   "source": [
    "\n",
    "# function with parameter and no return value\n",
    "\n",
    "def printline(name):\n",
    "    print(name)\n",
    "\n",
    "uname = input(\"Enter your name : \")\n",
    "printline(uname)"
   ]
  },
  {
   "cell_type": "code",
   "execution_count": 4,
   "metadata": {},
   "outputs": [
    {
     "name": "stdout",
     "output_type": "stream",
     "text": [
      "Enter the value of x : 23\n",
      "23\n"
     ]
    }
   ],
   "source": [
    "\n",
    "# function with parameter and return value\n",
    "\n",
    "def printline(s):\n",
    "    return s\n",
    "\n",
    "x = input(\"Enter the value of x : \")\n",
    "t = printline(x)\n",
    "print(t)"
   ]
  },
  {
   "cell_type": "code",
   "execution_count": 5,
   "metadata": {},
   "outputs": [
    {
     "name": "stdout",
     "output_type": "stream",
     "text": [
      "Enter your name : prasahnt\n",
      "prasahnt\n"
     ]
    }
   ],
   "source": [
    "\n",
    "# function with no parameter and return value \n",
    "\n",
    "def printline():\n",
    "    s = input(\"Enter your name : \")\n",
    "    return s\n",
    "\n",
    "print(printline())"
   ]
  },
  {
   "cell_type": "code",
   "execution_count": 6,
   "metadata": {},
   "outputs": [
    {
     "name": "stdout",
     "output_type": "stream",
     "text": [
      "Enter first number : 23\n",
      "Enter second number : 23\n",
      "The Sum of two number is 46\n"
     ]
    }
   ],
   "source": [
    "# write a function which takes two number and sum it\n",
    "\n",
    "def sum(a,b):\n",
    "    return a + b\n",
    "\n",
    "a = int(input(\"Enter first number : \"))\n",
    "b = int(input(\"Enter second number : \"))\n",
    "\n",
    "result = sum(a,b)\n",
    "print(\"The Sum of two number is\",result)"
   ]
  },
  {
   "cell_type": "code",
   "execution_count": 7,
   "metadata": {},
   "outputs": [
    {
     "name": "stdout",
     "output_type": "stream",
     "text": [
      "Enter the range : 3\n",
      "1\n",
      "3\n"
     ]
    }
   ],
   "source": [
    "# write a function to accept n and print odd number between 1 to N\n",
    "n = int(input(\"Enter the range : \"))\n",
    "def oddNumber(r):\n",
    "    for i in range(1,r+1):\n",
    "        if(i%2==1):\n",
    "            print(i)\n",
    "\n",
    "oddNumber(n)"
   ]
  },
  {
   "cell_type": "code",
   "execution_count": 8,
   "metadata": {},
   "outputs": [
    {
     "name": "stdout",
     "output_type": "stream",
     "text": [
      "(120, 80, 2000, 5.0)\n",
      "<class 'tuple'>\n",
      "120\n",
      "80\n",
      "2000\n",
      "5.0\n"
     ]
    }
   ],
   "source": [
    "\n",
    "# function with parameter and multiple return value\n",
    "\n",
    "def calc(a,b):\n",
    "    add = a+b\n",
    "    sub = a-b\n",
    "    mul = a*b\n",
    "    div = a/b\n",
    "    \n",
    "    return add,sub,mul,div\n",
    "\n",
    "result = calc(100,20)\n",
    "print(result)\n",
    "print(type(result))\n",
    "\n",
    "for i in result:\n",
    "    print(i)"
   ]
  },
  {
   "cell_type": "code",
   "execution_count": 9,
   "metadata": {},
   "outputs": [
    {
     "name": "stdout",
     "output_type": "stream",
     "text": [
      "argument passed into n returns square of n\n",
      "49\n"
     ]
    }
   ],
   "source": [
    "\n",
    "# docstring\n",
    "\n",
    "def square(n):\n",
    "    \"\"\"argument passed into n returns square of n\"\"\"\n",
    "    return n*n\n",
    "\n",
    "print(square.__doc__)\n",
    "print(square(7))"
   ]
  },
  {
   "cell_type": "code",
   "execution_count": 10,
   "metadata": {},
   "outputs": [
    {
     "name": "stdout",
     "output_type": "stream",
     "text": [
      "hello prashant good morning\n",
      "hello prashant good morning\n",
      "hello prashant good morning\n"
     ]
    }
   ],
   "source": [
    "\n",
    "# keyword argument \n",
    "\n",
    "def wish(name , msg):\n",
    "    print(\"hello\", name,msg)\n",
    "    \n",
    "wish(name = \"prashant\", msg = \"good morning\")\n",
    "wish(msg = \"good morning\" , name = \"prashant\")\n",
    "wish(\"prashant\" , msg=\"good morning\")\n",
    "# wish(name = \"prashant\" ,\"good morning\")"
   ]
  },
  {
   "cell_type": "code",
   "execution_count": 11,
   "metadata": {
    "scrolled": true
   },
   "outputs": [
    {
     "name": "stdout",
     "output_type": "stream",
     "text": [
      "Hello mahesh Good Morning\n",
      "Hello prashant Good Morning\n"
     ]
    }
   ],
   "source": [
    "# default argument\n",
    "\n",
    "def wish(name = \"prashant\"):\n",
    "    print(\"Hello\",name,\"Good Morning\")\n",
    "    \n",
    "wish(\"mahesh\")\n",
    "wish()"
   ]
  },
  {
   "cell_type": "code",
   "execution_count": 12,
   "metadata": {},
   "outputs": [
    {
     "name": "stdout",
     "output_type": "stream",
     "text": [
      "sum :  129\n",
      "sum :  0\n"
     ]
    }
   ],
   "source": [
    "# variable length argument \n",
    "\n",
    "def add(*n):\n",
    "    total = 0\n",
    "    for n1 in n:\n",
    "        total = total + n1\n",
    "    print(\"sum : \",total)\n",
    "    \n",
    "add(32,56,7,34)\n",
    "add()\n",
    "\n"
   ]
  },
  {
   "cell_type": "code",
   "execution_count": 13,
   "metadata": {},
   "outputs": [
    {
     "name": "stdout",
     "output_type": "stream",
     "text": [
      "(23, 65, 23, 75)\n",
      "23\n",
      "65\n",
      "23\n",
      "75\n",
      "1234\n"
     ]
    }
   ],
   "source": [
    "def f1(*s,n1):\n",
    "    print(s)\n",
    "    for s1 in s:\n",
    "        print(s1)\n",
    "    print(n1)\n",
    "f1(23,65,23,75,n1 = 1234)"
   ]
  },
  {
   "cell_type": "code",
   "execution_count": 14,
   "metadata": {},
   "outputs": [
    {
     "name": "stdout",
     "output_type": "stream",
     "text": [
      "{'m1': 12, 'm2': 34, 'm3': 45, 'm4': 232}\n",
      "m1 12\n",
      "m2 34\n",
      "m3 45\n",
      "m4 232\n"
     ]
    }
   ],
   "source": [
    "def display(**n):\n",
    "    print(n)\n",
    "    for k,v in n.items():\n",
    "        print(k,v)\n",
    "        \n",
    "display(m1=12,m2=34,m3=45,m4=232)"
   ]
  },
  {
   "cell_type": "code",
   "execution_count": 15,
   "metadata": {},
   "outputs": [
    {
     "name": "stdout",
     "output_type": "stream",
     "text": [
      "Enter first number : 32\n",
      "Enter second number : 12\n",
      "Enter a choice : +\n",
      "addition :  44\n"
     ]
    }
   ],
   "source": [
    "# write a program to demonstrate a simple calculator using function\n",
    "\n",
    "def calc(choice):\n",
    "    if(choice == \"+\"):\n",
    "        print(\"addition : \",a+b)\n",
    "        \n",
    "    elif(choice == \"-\"):\n",
    "        print(\"substraction : \" ,a-b)\n",
    "        \n",
    "    elif(choice == \"*\"):\n",
    "        print(\"multiplication : \" , a*b)\n",
    "    \n",
    "    elif(choice == \"/\"):\n",
    "        print(\"division : \", a/b)\n",
    "        \n",
    "    elif(choice == \"^\"):\n",
    "        print(\"power : \",a**b)\n",
    "        \n",
    "    elif(choice == \"%\"):\n",
    "        print(\"mod : \",a % b)\n",
    "        \n",
    "    else:\n",
    "        print(\"Enter valid choice\")\n",
    "    \n",
    "a = int(input(\"Enter first number : \"))\n",
    "b = int(input(\"Enter second number : \"))\n",
    "ch = input(\"Enter a choice : \")\n",
    "calc(ch)\n"
   ]
  },
  {
   "cell_type": "code",
   "execution_count": 16,
   "metadata": {},
   "outputs": [
    {
     "name": "stdout",
     "output_type": "stream",
     "text": [
      "Enter a number :4\n",
      "Enter a starting range :1\n",
      "Enter a ending range :6\n",
      "True\n"
     ]
    }
   ],
   "source": [
    "# design a function to check whether a number is arange or not \n",
    "\n",
    "def numRange(n,sr,er):\n",
    "    for i in range(sr,er+1):\n",
    "        if(n>=sr and n<=er):\n",
    "            return True\n",
    "        else:\n",
    "            return False\n",
    "    \n",
    "    \n",
    "n = int(input(\"Enter a number :\"))\n",
    "sr = int(input(\"Enter a starting range :\"))\n",
    "er = int(input(\"Enter a ending range :\"))\n",
    "\n",
    "result = numRange(n,sr,er)\n",
    "print(result)"
   ]
  },
  {
   "cell_type": "code",
   "execution_count": 18,
   "metadata": {},
   "outputs": [
    {
     "name": "stdout",
     "output_type": "stream",
     "text": [
      "0 2\n"
     ]
    }
   ],
   "source": [
    "sum = 0\n",
    "count = 0\n",
    "\n",
    "while count>15:\n",
    "    sum+=3\n",
    "    if sum == 3:\n",
    "        count+=5\n",
    "else:\n",
    "    count+=2\n",
    "    \n",
    "print(sum,count)"
   ]
  },
  {
   "cell_type": "code",
   "execution_count": 21,
   "metadata": {},
   "outputs": [
    {
     "name": "stdout",
     "output_type": "stream",
     "text": [
      "Enter a number : 13\n",
      "Happy number\n"
     ]
    }
   ],
   "source": [
    "\n",
    "# write a program to find entered number is happy number or not\n",
    "\n",
    "a = int(input(\"Enter a number : \"))\n",
    "\n",
    "while a != 1 and a != 4:\n",
    "    sum = 0\n",
    "    for i in str(a):\n",
    "        sum += int(i)**2\n",
    "        a = sum\n",
    "\n",
    "if a == 1:\n",
    "    print(\"Happy number\")\n",
    "else:\n",
    "    print(\"not happy number \")\n",
    "    \n",
    "    "
   ]
  },
  {
   "cell_type": "code",
   "execution_count": 25,
   "metadata": {},
   "outputs": [
    {
     "name": "stdout",
     "output_type": "stream",
     "text": [
      "18000.0\n"
     ]
    }
   ],
   "source": [
    "print(60000*30/100)"
   ]
  },
  {
   "cell_type": "code",
   "execution_count": 62,
   "metadata": {},
   "outputs": [
    {
     "name": "stdout",
     "output_type": "stream",
     "text": [
      "Enter year : 2025\n",
      "Enter month : 2\n",
      "Enter day : 29\n"
     ]
    }
   ],
   "source": [
    "y = int(input(\"Enter year : \"))\n",
    "m = int(input(\"Enter month : \"))\n",
    "d = int(input(\"Enter day : \"))\n",
    "\n",
    "if y%4 == 0 or y//400 == 0:\n",
    "    if d == 29:\n",
    "        ed = 1\n",
    "        print(y, \"/\" ,m,\"/\",d+ed)\n",
    "    \n",
    "    else:\n",
    "        feb = 28\n",
    "    \n",
    "    \n",
    "    "
   ]
  },
  {
   "cell_type": "code",
   "execution_count": 54,
   "metadata": {},
   "outputs": [
    {
     "name": "stdout",
     "output_type": "stream",
     "text": [
      "Enter a grade : A\n",
      "Enter type of city : 1\n",
      "110100.0\n",
      "1321200.0\n"
     ]
    }
   ],
   "source": [
    "grade = input(\"Enter a grade : \")\n",
    "city = input(\"Enter type of city : \")\n",
    "\n",
    "if grade == \"A\":\n",
    "        basic_pay = 60000\n",
    "        other_allowance = 8000\n",
    "        \n",
    "elif grade == \"B\":\n",
    "    basic_pay = 50000\n",
    "    other_allowance = 7000\n",
    "        \n",
    "elif grade == \"C\":\n",
    "    basic_pay = 70000\n",
    "    other_allowance = 6000\n",
    "        \n",
    "elif grade == \"D\":\n",
    "    basic_pay = 30000\n",
    "    other_allowance = 5000\n",
    "        \n",
    "elif grade == \"E\":\n",
    "    basic_pay = 20000\n",
    "    other_allowance = 4000\n",
    "        \n",
    "elif grade == \"F\":\n",
    "    basic_pay = 10000\n",
    "    other_allowance = 3000\n",
    "else:\n",
    "    print(\"Enter valid input : \")\n",
    "    \n",
    "\n",
    "if (city == \"1\"):\n",
    "    HRA = basic_pay*0.3\n",
    "elif (city == \"2\"):\n",
    "    HRA = basic_pay*0.2\n",
    "elif (city == \"3\"):\n",
    "    HRA = basic_pay*0.1\n",
    "\n",
    "\n",
    "DA = basic_pay*0.5\n",
    "TA = 900\n",
    "PF = basic_pay*0.11\n",
    "Prof_tax = 200\n",
    "\n",
    "gross = basic_pay + DA + HRA + TA + other_allowance - PF - Prof_tax\n",
    "print(gross)\n",
    "\n",
    "anuual = gross * 12\n",
    "print(anuual)\n",
    "\n",
    "\n",
    "# if anuual >= 250000:\n",
    "#     print(\"income tax : 0%\")\n",
    "    \n",
    "# elif annual >= 250000 and anuual <= 500000:\n",
    "#     in_tax = anuual*5/100\n",
    "#     print(\"income tax :\",in_tax)\n",
    "    \n",
    "# elif annual >= 500001 and anuual <= 750000:\n",
    "#     in_tax = anuual*10/100+12500\n",
    "#     print(\"income tax :\",in_tax)\n",
    "    \n",
    "    \n",
    "# elif anuual >= 750001 and anuual <= 1000000:\n",
    "#     in_tax = anuual*15/100 + 37500\n",
    "#     print(\"income tax :\",in_tax)\n",
    "    \n",
    "    \n",
    "# elif anuual >= 1000001 and anuual <= 1250000:\n",
    "#     in_tax = anuual*20/100 + 75000\n",
    "#     print(\"income tax :\",in_tax)\n",
    "    \n",
    "\n",
    "# elif anuual >= 1250001 and anuual <= 1500000:\n",
    "#     in_tax = anuual*25/100 + 125000\n",
    "#     print(\"income tax :\",in_tax)\n",
    "    \n",
    "\n",
    "# elif anuual >= 1500001:\n",
    "#     in_tax = anuual*30/100 + 187500\n",
    "#     print(\"income tax :\",in_tax)\n",
    "    "
   ]
  },
  {
   "cell_type": "code",
   "execution_count": 72,
   "metadata": {},
   "outputs": [
    {
     "name": "stdout",
     "output_type": "stream",
     "text": [
      "Enter year : 2024\n",
      "Enter month : 2\n",
      "Enter day : 29\n",
      "Next date : 2024-3-1\n"
     ]
    }
   ],
   "source": [
    "year = int(input(\"Enter year : \"))\n",
    "ly = False\n",
    "\n",
    "if (year%4==0 and year%100 != 0) or year%400 == 0:\n",
    "    ly = True\n",
    "    \n",
    "month = int(input(\"Enter month : \"))\n",
    "\n",
    "if month in (1,3,5,7,8,10,12):\n",
    "    length = 31\n",
    "    \n",
    "elif month == 2:\n",
    "    if ly:\n",
    "        length = 29\n",
    "    else:\n",
    "        length = 28\n",
    "else:\n",
    "    length=30\n",
    "    \n",
    "day = int(input(\"Enter day : \"))\n",
    "\n",
    "if day > length:\n",
    "    print(\"Enter valid date : \")\n",
    "else: \n",
    "    if day < length:\n",
    "        day +=1\n",
    "        print(f\"Next date : {year} - {month} - {day}\")\n",
    "    else:\n",
    "        day = 1\n",
    "        if month == 12:\n",
    "            month = 1\n",
    "            year+=1\n",
    "        else:\n",
    "            month+=1\n",
    "        print(f\"Next date : {year}-{month}-{day}\")"
   ]
  },
  {
   "cell_type": "code",
   "execution_count": null,
   "metadata": {},
   "outputs": [],
   "source": []
  },
  {
   "cell_type": "code",
   "execution_count": null,
   "metadata": {},
   "outputs": [],
   "source": []
  }
 ],
 "metadata": {
  "kernelspec": {
   "display_name": "Python 3",
   "language": "python",
   "name": "python3"
  },
  "language_info": {
   "codemirror_mode": {
    "name": "ipython",
    "version": 3
   },
   "file_extension": ".py",
   "mimetype": "text/x-python",
   "name": "python",
   "nbconvert_exporter": "python",
   "pygments_lexer": "ipython3",
   "version": "3.8.5"
  }
 },
 "nbformat": 4,
 "nbformat_minor": 4
}
