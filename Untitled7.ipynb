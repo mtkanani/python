{
 "cells": [
  {
   "cell_type": "code",
   "execution_count": 5,
   "metadata": {},
   "outputs": [
    {
     "name": "stdout",
     "output_type": "stream",
     "text": [
      "ava de jo..:13\n",
      "prime thai to j bake..\n"
     ]
    }
   ],
   "source": [
    "#wap  to enter number is prime or note\n",
    "n=int(input(\"ava de jo..:\"))\n",
    "flag=0\n",
    "for i in range(2,n):\n",
    "    if n%i==0:\n",
    "        flag=1\n",
    "        break\n",
    "if(flag==0):\n",
    "    print(\"prime thai to j bake..\")\n",
    "else:\n",
    "    print(\"java de bhadva\")"
   ]
  },
  {
   "cell_type": "code",
   "execution_count": 1,
   "metadata": {},
   "outputs": [
    {
     "name": "stdout",
     "output_type": "stream",
     "text": [
      "pelu j ho...1\n",
      "only biju j h...10\n",
      "1 2 3 5 7 "
     ]
    }
   ],
   "source": [
    "a=int(input(\"pelu j ho...\"))\n",
    "b=int(input(\"only biju j h...\"))\n",
    "flag=0\n",
    "for i in range(a,b+1):\n",
    "    flag=0\n",
    "    for j in range(2,i):\n",
    "        if i%j==0:\n",
    "            flag=1\n",
    "            break\n",
    "    if flag==0:\n",
    "        print(i,end=\" \")"
   ]
  },
  {
   "cell_type": "code",
   "execution_count": 4,
   "metadata": {},
   "outputs": [
    {
     "name": "stdout",
     "output_type": "stream",
     "text": [
      "laakhi nakh jaldi..5\n",
      "* \n",
      "* * \n",
      "* * * \n",
      "* * * * \n",
      "* * * * * \n"
     ]
    }
   ],
   "source": [
    "n=int(input(\"laakhi nakh jaldi..\"))\n",
    "for i in range(1,n+1):\n",
    "    for j in range(1,i+1):\n",
    "        print('*',end=\" \")\n",
    "    print()"
   ]
  },
  {
   "cell_type": "code",
   "execution_count": 5,
   "metadata": {},
   "outputs": [
    {
     "name": "stdout",
     "output_type": "stream",
     "text": [
      "laakhi nakh jaldi..5\n",
      "1 \n",
      "2 2 \n",
      "3 3 3 \n",
      "4 4 4 4 \n",
      "5 5 5 5 5 \n"
     ]
    }
   ],
   "source": [
    "n=int(input(\"laakhi nakh jaldi..\"))\n",
    "for i in range(1,n+1):\n",
    "    for j in range(1,i+1):\n",
    "        print(i,end=\" \")\n",
    "    print()"
   ]
  },
  {
   "cell_type": "code",
   "execution_count": 6,
   "metadata": {},
   "outputs": [
    {
     "name": "stdout",
     "output_type": "stream",
     "text": [
      "laakhi nakh jaldi..5\n",
      "1 \n",
      "1 2 \n",
      "1 2 3 \n",
      "1 2 3 4 \n",
      "1 2 3 4 5 \n"
     ]
    }
   ],
   "source": [
    "n=int(input(\"laakhi nakh jaldi..\"))\n",
    "for i in range(1,n+1):\n",
    "    for j in range(1,i+1):\n",
    "        print(j,end=\" \")\n",
    "    print()"
   ]
  },
  {
   "cell_type": "code",
   "execution_count": 20,
   "metadata": {},
   "outputs": [
    {
     "name": "stdout",
     "output_type": "stream",
     "text": [
      "laakhi nakh jaldi..5\n",
      "    * \n",
      "   * * \n",
      "  * * * \n",
      " * * * * \n",
      "* * * * * \n"
     ]
    }
   ],
   "source": [
    "n=int(input(\"laakhi nakh jaldi..\"))\n",
    "for i in range(1,n+1):\n",
    "    for j in range(1,n-i+1):\n",
    "        print(\" \",end=\"\")\n",
    "    for k in range(1,i+1):\n",
    "        print(\"*\",end=\" \")\n",
    "    print()\n",
    "        "
   ]
  },
  {
   "cell_type": "code",
   "execution_count": 21,
   "metadata": {},
   "outputs": [
    {
     "name": "stdout",
     "output_type": "stream",
     "text": [
      "laakhi nakh jaldi..5\n",
      " * * * * \n",
      "  * * * \n",
      "   * * \n",
      "    * \n",
      "     \n"
     ]
    }
   ],
   "source": [
    "n=int(input(\"laakhi nakh jaldi..\"))\n",
    "for i in range(1,n+1):\n",
    "    for j in range(1,i+1):\n",
    "        print(\" \",end=\"\")\n",
    "    for k in range(1,n-i+1):\n",
    "        print(\"*\",end=\" \")\n",
    "    print()\n",
    "        "
   ]
  },
  {
   "cell_type": "code",
   "execution_count": 24,
   "metadata": {},
   "outputs": [
    {
     "name": "stdout",
     "output_type": "stream",
     "text": [
      "laakhi nakh jaldi..5\n",
      " *  *  *  * \n",
      " *  *  * \n",
      " *  * \n",
      " * \n",
      "\n",
      " * \n",
      " *  * \n",
      " *  *  * \n",
      " *  *  *  * \n",
      " *  *  *  *  * \n"
     ]
    }
   ],
   "source": [
    "n=int(input(\"laakhi nakh jaldi..\"))\n",
    "for i in range(1,n+1):\n",
    "    for j in range(1,n-i+1):\n",
    "        print(\" \",end=\"\")\n",
    "  #  for k in range(1,i+1):\n",
    "        print(\"*\",end=\" \")\n",
    "    print()\n",
    "for i in range(1,n+1):\n",
    "    for j in range(1,i+1):\n",
    "        print(\" \",end=\"\")\n",
    "   # for k in range(1,n-i+1):\n",
    "        print(\"*\",end=\" \")\n",
    "    print()\n",
    "        \n",
    "        "
   ]
  },
  {
   "cell_type": "code",
   "execution_count": 25,
   "metadata": {},
   "outputs": [
    {
     "name": "stdout",
     "output_type": "stream",
     "text": [
      "laakhi nakh jaldi..5\n",
      " * \n",
      " *  * \n",
      " *  *  * \n",
      " *  *  *  * \n",
      " *  *  *  *  * \n",
      " *  *  *  * \n",
      " *  *  * \n",
      " *  * \n",
      " * \n",
      "\n"
     ]
    }
   ],
   "source": [
    "n=int(input(\"laakhi nakh jaldi..\"))\n",
    "for i in range(1,n+1):\n",
    "    for j in range(1,i+1):\n",
    "        print(\" \",end=\"\")\n",
    "   # for k in range(1,n-i+1):\n",
    "        print(\"*\",end=\" \")\n",
    "    print()\n",
    "        \n",
    "for i in range(1,n+1):\n",
    "    for j in range(1,n-i+1):\n",
    "        print(\" \",end=\"\")\n",
    "  #  for k in range(1,i+1):\n",
    "        print(\"*\",end=\" \")\n",
    "    print()\n",
    "\n",
    "        "
   ]
  },
  {
   "cell_type": "code",
   "execution_count": 29,
   "metadata": {},
   "outputs": [
    {
     "name": "stdout",
     "output_type": "stream",
     "text": [
      "laakhi nakh jaldi..5\n",
      " * * * * \n",
      "  * * * \n",
      "   * * \n",
      "    * \n",
      "     \n",
      "    * \n",
      "   * * \n",
      "  * * * \n",
      " * * * * \n",
      "* * * * * \n"
     ]
    }
   ],
   "source": [
    "n=int(input(\"laakhi nakh jaldi..\"))\n",
    "for i in range(1,n+1):\n",
    "    for j in range(1,i+1):\n",
    "        print(\" \",end=\"\")\n",
    "    for k in range(1,n-i+1):\n",
    "        print(\"*\",end=\" \")\n",
    "    print()\n",
    "        \n",
    "for i in range(1,n+1):\n",
    "    for j in range(1,n-i+1):\n",
    "        print(\" \",end=\"\")\n",
    "    for k in range(1,i+1):\n",
    "        print(\"*\",end=\" \")\n",
    "    print()\n",
    "\n",
    "        "
   ]
  },
  {
   "cell_type": "code",
   "execution_count": 66,
   "metadata": {},
   "outputs": [
    {
     "name": "stdout",
     "output_type": "stream",
     "text": [
      "ava dyo..:5\n",
      "$ * * * * \n",
      "* $     * \n",
      "*   $   * \n",
      "*     $ * \n",
      "* * * * $ \n"
     ]
    }
   ],
   "source": [
    "n=int(input(\"ava dyo..:\"))\n",
    "for i in range(1,n+1):\n",
    "    for j in range(1,n+1):\n",
    "        if(i==j):\n",
    "            print('$',end=' ')\n",
    "        elif(i==1 or j==1 or j==(n) or i==(n)):\n",
    "            print('*',end=\" \")\n",
    "        else:\n",
    "            print(\" \",end=\" \")\n",
    "    print()"
   ]
  },
  {
   "cell_type": "code",
   "execution_count": 3,
   "metadata": {},
   "outputs": [
    {
     "name": "stdout",
     "output_type": "stream",
     "text": [
      "ava de..12\n",
      "ava de..21\n",
      "ava de..12\n",
      "ava de..21\n",
      "ava de..done\n",
      "sum = 66\n",
      "avg = 16.5\n",
      "min = 12\n",
      "max = 21\n",
      "\n"
     ]
    }
   ],
   "source": [
    "#wap to get numbers from the user until user enter done after that find sum of that number \n",
    "#avrage of the numbers minimum number and maximum number \n",
    "c=0\n",
    "s=0\n",
    "while(True):\n",
    "    n=(input(\"ava de..\"))\n",
    "    if n==\"done\":\n",
    "        break\n",
    "    n=int(n)\n",
    "    c+=1\n",
    "    if c==1:\n",
    "        max1=n\n",
    "        min1=n\n",
    "    s+=n\n",
    "    if n>max1:\n",
    "        max1=n\n",
    "    if n<min1:\n",
    "        min1=n\n",
    "print(\"sum =\",s)\n",
    "print(\"avg =\",(s/c))\n",
    "print(\"min =\",min1)\n",
    "print(\"max =\",max1)\n",
    "print()\n",
    "    \n",
    "    "
   ]
  },
  {
   "cell_type": "code",
   "execution_count": null,
   "metadata": {},
   "outputs": [],
   "source": [
    "#wap to find lcm of 2 numbers\n"
   ]
  }
 ],
 "metadata": {
  "kernelspec": {
   "display_name": "Python 3",
   "language": "python",
   "name": "python3"
  },
  "language_info": {
   "codemirror_mode": {
    "name": "ipython",
    "version": 3
   },
   "file_extension": ".py",
   "mimetype": "text/x-python",
   "name": "python",
   "nbconvert_exporter": "python",
   "pygments_lexer": "ipython3",
   "version": "3.8.5"
  }
 },
 "nbformat": 4,
 "nbformat_minor": 4
}
