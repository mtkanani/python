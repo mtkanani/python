{
 "cells": [
  {
   "cell_type": "code",
   "execution_count": 2,
   "metadata": {},
   "outputs": [
    {
     "name": "stdout",
     "output_type": "stream",
     "text": [
      "hello\n"
     ]
    }
   ],
   "source": [
    "print(\"hello\")"
   ]
  },
  {
   "cell_type": "code",
   "execution_count": 6,
   "metadata": {},
   "outputs": [
    {
     "name": "stdout",
     "output_type": "stream",
     "text": [
      "11 5\n"
     ]
    }
   ],
   "source": [
    "x=0\n",
    "count=0\n",
    "for x in range(10):\n",
    "    while x<15:\n",
    "        if x<0:\n",
    "            pass\n",
    "        elif x%2==0:\n",
    "            x+=1\n",
    "            continue\n",
    "        elif x%3==0:\n",
    "            x+=1\n",
    "            continue\n",
    "        elif count==5:\n",
    "            break\n",
    "        count+=1\n",
    "print(x,count)"
   ]
  },
  {
   "cell_type": "code",
   "execution_count": 7,
   "metadata": {},
   "outputs": [
    {
     "name": "stdout",
     "output_type": "stream",
     "text": [
      "enter 1 for bus,enter 2 for car,enter 3 for bike\n",
      "Enter Number1\n",
      "enter hour14\n",
      "Enter minit0\n",
      "enter hour2\n",
      "Enter minit0\n",
      "Hours :  12\n",
      "Minits :  0\n",
      "Your Parking Fees : 40\n"
     ]
    }
   ],
   "source": [
    "#wap to calculate parking fees for lesthen or equal 3 hours for bus and truck 20 for car 10 for 2 whelers 5rs \n",
    "#for greterthan 3 hour than for for bus 40 for car 20 for bike 10 enter the time in 24 hour \n",
    "print(\"enter 1 for bus,enter 2 for car,enter 3 for bike\")\n",
    "vehical=int(input(\"Enter Number\"))\n",
    "Enter_hr=int(input(\"enter hour\"))\n",
    "Enter_min=int(input(\"Enter minit\"))\n",
    "exit_hr=int(input(\"enter hour\"))\n",
    "exit_min=int(input(\"Enter minit\"))\n",
    "time_hr=0\n",
    "if Enter_hr>exit_hr:\n",
    "    exit_hr+=24\n",
    "time_hr=exit_hr-Enter_hr\n",
    "\n",
    "if Enter_min>exit_min:\n",
    "    exit_min+=60\n",
    "time_min=exit_min-Enter_min\n",
    "print(\"Hours : \",time_hr),print(\"Minits : \",time_min)\n",
    "if (time_hr<3)or(time_hr==3 and time_min<=0):\n",
    "    if vehical==1:\n",
    "        text=20\n",
    "    elif vehical==2:\n",
    "        text=10\n",
    "    elif vehical==3:\n",
    "        text=5\n",
    "    else:\n",
    "        print(\"enter valid vehical\")\n",
    "else:\n",
    "    if vehical==1:\n",
    "        text=40\n",
    "    elif vehical==2:\n",
    "        text==20\n",
    "    elif vehical==3:\n",
    "        text=10\n",
    "    else:\n",
    "        print(\"enter valid vehical\")\n",
    "print(\"Your Parking Fees :\",text)"
   ]
  },
  {
   "cell_type": "code",
   "execution_count": 19,
   "metadata": {},
   "outputs": [
    {
     "name": "stdout",
     "output_type": "stream",
     "text": [
      "enter num1234\n",
      "2345\n"
     ]
    }
   ],
   "source": [
    "#wap to encode the number as per given example 1234 to 2345\n",
    "n=int(input(\"enter num\"))\n",
    "position=1\n",
    "en_no=0\n",
    "while n>0:\n",
    "    d=n%10\n",
    "    n//=10\n",
    "    if d<9:\n",
    "        d+=1\n",
    "    else:\n",
    "        d=0\n",
    "    en_no+=d*position\n",
    "    position*=10\n",
    "print(en_no)"
   ]
  },
  {
   "cell_type": "code",
   "execution_count": null,
   "metadata": {},
   "outputs": [],
   "source": []
  },
  {
   "cell_type": "code",
   "execution_count": null,
   "metadata": {},
   "outputs": [],
   "source": []
  }
 ],
 "metadata": {
  "kernelspec": {
   "display_name": "Python 3",
   "language": "python",
   "name": "python3"
  },
  "language_info": {
   "codemirror_mode": {
    "name": "ipython",
    "version": 3
   },
   "file_extension": ".py",
   "mimetype": "text/x-python",
   "name": "python",
   "nbconvert_exporter": "python",
   "pygments_lexer": "ipython3",
   "version": "3.8.5"
  }
 },
 "nbformat": 4,
 "nbformat_minor": 4
}
