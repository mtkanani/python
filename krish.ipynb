{
 "cells": [
  {
   "cell_type": "code",
   "execution_count": 1,
   "metadata": {},
   "outputs": [
    {
     "name": "stdout",
     "output_type": "stream",
     "text": [
      "1.0\n"
     ]
    }
   ],
   "source": [
    "#assignment operators\n",
    "x=10\n",
    "x=x+20\n",
    "x=x-10\n",
    "x=x*5\n",
    "x=x/2\n",
    "x=x//5\n",
    "x=x%3\n",
    "x=x**2\n",
    "print(x)"
   ]
  },
  {
   "cell_type": "code",
   "execution_count": 9,
   "metadata": {},
   "outputs": [
    {
     "name": "stdout",
     "output_type": "stream",
     "text": [
      "False\n",
      "True\n",
      "False\n"
     ]
    }
   ],
   "source": [
    "#membership operator\n",
    "x=\"hello,Python is very easy!\"\n",
    "print(\"d\" in x)\n",
    "print(\"d\" not in x)\n",
    "print(\"python\" in x)"
   ]
  },
  {
   "cell_type": "code",
   "execution_count": 11,
   "metadata": {},
   "outputs": [
    {
     "name": "stdout",
     "output_type": "stream",
     "text": [
      "True\n"
     ]
    }
   ],
   "source": [
    "l=[1,2,3,4,5]\n",
    "print(4 in l)"
   ]
  },
  {
   "cell_type": "code",
   "execution_count": 24,
   "metadata": {},
   "outputs": [
    {
     "name": "stdout",
     "output_type": "stream",
     "text": [
      "23\n",
      "26\n",
      "48.0\n",
      "9765625.0\n",
      "78125.0\n",
      "false\n",
      "True\n",
      "20.0\n"
     ]
    }
   ],
   "source": [
    "#operator precedence\n",
    "print(3+10*2)\n",
    "print((3+10)*2)\n",
    "print(3+10*4+(10/2))\n",
    "print(5**3**2*5/True)\n",
    "print((5**3)**2*5/True)\n",
    "print(\"1\" in \"123\" and \"false\" or True)\n",
    "print(5 and True or 3/0)\n",
    "print(10/(1*3/6))"
   ]
  },
  {
   "cell_type": "code",
   "execution_count": 26,
   "metadata": {},
   "outputs": [
    {
     "name": "stdout",
     "output_type": "stream",
     "text": [
      "enter the value b:4\n",
      "enter the value h:6\n",
      "12.0\n"
     ]
    }
   ],
   "source": [
    "#write a program  to find area of tringle\n",
    "b=int(input(\"enter the value b:\"))\n",
    "h=int(input(\"enter the value h:\"))\n",
    "a=1/2*b*h\n",
    "print(a)"
   ]
  },
  {
   "cell_type": "code",
   "execution_count": 5,
   "metadata": {},
   "outputs": [
    {
     "name": "stdout",
     "output_type": "stream",
     "text": [
      "Please enter temperature in fahrenheit:34\n",
      "Temperature in celsius:  1.1111111111111112\n"
     ]
    }
   ],
   "source": [
    "#wap to convert f to c and c to f\n",
    "f = float(input(\"Please enter temperature in fahrenheit:\"))\n",
    "celsius = (f - 32) * 5 / 9\n",
    "print(\"Temperature in celsius: \" , celsius)"
   ]
  },
  {
   "cell_type": "code",
   "execution_count": 6,
   "metadata": {},
   "outputs": [
    {
     "name": "stdout",
     "output_type": "stream",
     "text": [
      "Please enter value:455\n",
      "c to f:  851.0\n"
     ]
    }
   ],
   "source": [
    "c = float(input(\"Please enter value:\"))\n",
    "f = (9 / 5) * c + 32\n",
    "print(\"c to f: \" , f)"
   ]
  },
  {
   "cell_type": "code",
   "execution_count": 11,
   "metadata": {},
   "outputs": [
    {
     "name": "stdout",
     "output_type": "stream",
     "text": [
      "1 2 25\n"
     ]
    }
   ],
   "source": [
    "#wap to convert given days into year month and days\n",
    "\n",
    "totalDays = 450\n",
    "\n",
    "years = totalDays//365\n",
    "months = (totalDays%365)//30\n",
    "days = (totalDays%365)%30\n",
    "\n",
    "print(years,months,days)"
   ]
  },
  {
   "cell_type": "code",
   "execution_count": 21,
   "metadata": {},
   "outputs": [
    {
     "name": "stdout",
     "output_type": "stream",
     "text": [
      "Enter number of days: 450\n",
      "Years =  1\n",
      "Months =  2\n",
      "Days =  25\n"
     ]
    }
   ],
   "source": [
    "number_of_days = int(input(\"Enter number of days: \"))\n",
    "\n",
    "# Calculating years\n",
    "years = number_of_days // 365\n",
    "\n",
    "# Calculating months\n",
    "months = (number_of_days - 365) // 30\n",
    "\n",
    "# Calculating days\n",
    "days = (number_of_days - 365 - months*30)\n",
    "\n",
    "# Displaying results\n",
    "print(\"Years = \", years)\n",
    "print(\"Months = \", months)\n",
    "print(\"Days = \", days)"
   ]
  },
  {
   "cell_type": "code",
   "execution_count": 24,
   "metadata": {},
   "outputs": [
    {
     "name": "stdout",
     "output_type": "stream",
     "text": [
      "False\n",
      "True\n",
      "False\n",
      "True\n"
     ]
    }
   ],
   "source": [
    "a=20\n",
    "b=10\n",
    "c=30\n",
    "print(a>b and a>c)\n",
    "print(a>b or a>c)\n",
    "print(not a>b)\n",
    "print(not a>c)"
   ]
  },
  {
   "cell_type": "code",
   "execution_count": 33,
   "metadata": {},
   "outputs": [
    {
     "name": "stdout",
     "output_type": "stream",
     "text": [
      "enter the number:-10\n",
      "the number is negative\n"
     ]
    }
   ],
   "source": [
    "#wap to check is number is positive or not\n",
    "n=int(input(\"enter the number:\"))\n",
    "if(n>0):\n",
    "    print(\"the number is positive\")\n",
    "else:\n",
    "    print(\"the number is negative\")"
   ]
  },
  {
   "cell_type": "code",
   "execution_count": 43,
   "metadata": {},
   "outputs": [
    {
     "name": "stdout",
     "output_type": "stream",
     "text": [
      "enter number: 880\n",
      "500 notes: 1\n",
      "200 notes: 1\n",
      "100 notes: 1\n",
      "50 notes: 1\n",
      "20 notes: 1\n",
      "10 notes: 1\n"
     ]
    }
   ],
   "source": [
    "#wap to find number of notes against a given amount\n",
    "money=int(input(\"enter number: \"))\n",
    "notes= money // 500\n",
    "print(\"500 notes:\",notes)\n",
    "notes=(money % 500) // 200\n",
    "print(\"200 notes:\",notes)\n",
    "notes=(money % 500%200) // 100\n",
    "print(\"100 notes:\",notes)\n",
    "notes=(money % 500%200%100)// 50\n",
    "print(\"50 notes:\",notes)\n",
    "notes=(money % 500%200%100%50)// 20\n",
    "print(\"20 notes:\",notes)\n",
    "notes=(money % 500%200%100%50%20)//10\n",
    "print(\"10 notes:\",notes)"
   ]
  },
  {
   "cell_type": "code",
   "execution_count": 48,
   "metadata": {},
   "outputs": [
    {
     "name": "stdout",
     "output_type": "stream",
     "text": [
      "enter name: arman\n",
      "hello arman good morning\n",
      "how are u!!!\n"
     ]
    }
   ],
   "source": [
    "name=input(\"enter name: \")\n",
    "if name==\"arman\":\n",
    "    print(\"hello arman good morning\")\n",
    "    print(\"how are u!!!\")"
   ]
  },
  {
   "cell_type": "code",
   "execution_count": 50,
   "metadata": {},
   "outputs": [
    {
     "name": "stdout",
     "output_type": "stream",
     "text": [
      "enter name: ar\n",
      "how are u!!!\n"
     ]
    }
   ],
   "source": [
    "name=input(\"enter name: \")\n",
    "if name==\"arman\":\n",
    "    print(\"hello arman good morning\")\n",
    "else:\n",
    "    print(\"how are u!!!\")"
   ]
  },
  {
   "cell_type": "markdown",
   "metadata": {},
   "source": [
    "a=int(input(\"enter name: \"))\n",
    "b=int(input(\"enter name: \"))\n",
    "c=int(input(\"enter name: \"))\n",
    "if(a>b and a>c):\n",
    "    print(\"number is big: \",a)\n",
    "elif(b>c):\n",
    "    print(\"number is big: \",b)\n",
    "else:\n",
    "    print(\"number is big: \",c)"
   ]
  },
  {
   "cell_type": "code",
   "execution_count": 2,
   "metadata": {},
   "outputs": [
    {
     "name": "stdout",
     "output_type": "stream",
     "text": [
      "above 10\n",
      "not above 20\n"
     ]
    }
   ],
   "source": [
    "x=15\n",
    "if x>10:\n",
    "    print(\"above 10\")\n",
    "if x>20:\n",
    "    print(\"and also above 20\")\n",
    "else:\n",
    "    print(\"not above 20\")"
   ]
  },
  {
   "cell_type": "code",
   "execution_count": 3,
   "metadata": {},
   "outputs": [
    {
     "name": "stdout",
     "output_type": "stream",
     "text": [
      "Enter a year: 2020\n",
      "2020 is a leap year.\n"
     ]
    }
   ],
   "source": [
    "#write a python program to check weather the given year is leap year or note\n",
    "year = int(input(\"Enter a year: \"))\n",
    "\n",
    "if (year % 4 == 0 and (year % 100 != 0 or year % 400 == 0)):\n",
    "    print(f\"{year} is a leap year.\")\n",
    "else:\n",
    "    print(f\"{year} is not a leap year.\")"
   ]
  },
  {
   "cell_type": "code",
   "execution_count": 11,
   "metadata": {},
   "outputs": [
    {
     "name": "stdout",
     "output_type": "stream",
     "text": [
      "Enter a year: 12\n",
      "Enter a year: 56\n",
      "Enter a choice of operator(+,-,/,*,//,%,**): -\n",
      "sub is: -44\n"
     ]
    }
   ],
   "source": [
    "#write a python program arithmaic operation according to the sign given as choice\n",
    "a = int(input(\"Enter a year: \"))\n",
    "b = int(input(\"Enter a year: \"))\n",
    "c = input(\"Enter a choice of operator(+,-,/,*,//,%,**): \")\n",
    "if c=='+':\n",
    "    print(\"sum is:\",a+b)\n",
    "elif c=='-':\n",
    "    print(\"sub is:\",a-b)\n",
    "elif c=='/':\n",
    "    print(\"div is:\",a/b)\n",
    "elif c=='*':\n",
    "    print(\"mul is:\",a-b)\n",
    "else :\n",
    "    print(\"enter the correct choice of operation\")"
   ]
  },
  {
   "cell_type": "code",
   "execution_count": 16,
   "metadata": {},
   "outputs": [
    {
     "name": "stdout",
     "output_type": "stream",
     "text": [
      "Enter a marks 1: 23\n",
      "Enter a marks 2: 45\n",
      "Enter a marks 3: 67\n",
      "total marks: 0\n",
      "average:: 45.0\n"
     ]
    }
   ],
   "source": [
    "#wap to enter 3 subject marks calculate the percentage and display the grade according to percentage\n",
    "marks1= int(input(\"Enter a marks 1: \"))\n",
    "marks2= int(input(\"Enter a marks 2: \"))\n",
    "marks3= int(input(\"Enter a marks 3: \"))\n",
    "total=(marks1+marks2+marks3)//300*100\n",
    "average = (marks1+marks2+marks3)/3\n",
    "print(\"total marks:\",total)\n",
    "print(\"average::\",average )"
   ]
  },
  {
   "cell_type": "code",
   "execution_count": null,
   "metadata": {},
   "outputs": [],
   "source": [
    "#write a program to check weather the last digit of an number enter by user is divisible by 3 or not\n",
    "num = int(input())\n",
    "if num % 3 ==0:\n",
    "  print(\"divisible by 3\")\n",
    "else:\n",
    "  print(\"Not divisible by 3\")"
   ]
  },
  {
   "cell_type": "code",
   "execution_count": 9,
   "metadata": {},
   "outputs": [
    {
     "name": "stdout",
     "output_type": "stream",
     "text": [
      "enter your unit number: 350\n",
      "total cost:  2000\n"
     ]
    }
   ],
   "source": [
    "#write a program to calculate the electricity bill accept number of unit from user \n",
    "unit=int(input(\"enter your unit number: \"))\n",
    "if unit <= 100:\n",
    "    print(\"no charges: \")\n",
    "elif 100 < unit <=200:\n",
    "    cost = (unit - 100)*5\n",
    "    print(\"total cost: \",cost)\n",
    "else:\n",
    "    unit > 200\n",
    "    cost = 500 + (unit - 200)*10\n",
    "    print(\"total cost: \",cost)"
   ]
  },
  {
   "cell_type": "code",
   "execution_count": 12,
   "metadata": {},
   "outputs": [
    {
     "name": "stdout",
     "output_type": "stream",
     "text": [
      "enter your bike price  110000\n",
      "31500.0\n"
     ]
    }
   ],
   "source": [
    "#write a python program to accept to  cost price of a bike and calculate the road tax to be pay , also display total price of a bike.\n",
    "a=int(input('enter your bike price  '))\n",
    "if(a>100000):\n",
    "    onraod_price= (a* 0.15+a)\n",
    "    print(onroad_price)\n",
    "elif(a>50000 and a<=100000):\n",
    "    onraod_price= (a*0.1+a)\n",
    "    print(onraod_price)\n",
    "elif(a<=50000):\n",
    "    onroad_price=(a*0.05+a)\n",
    "    print(onroad_price)\n",
    "else:\n",
    "    print(\"you entered wrong price\")"
   ]
  },
  {
   "cell_type": "code",
   "execution_count": 21,
   "metadata": {},
   "outputs": [
    {
     "name": "stdout",
     "output_type": "stream",
     "text": [
      "enter you number: 12345\n",
      "length is 1\n",
      "length is 2\n",
      "length is 3\n",
      "length is 4\n",
      "length is 5\n"
     ]
    }
   ],
   "source": [
    "#Python program to find length of a string without using in-built function\n",
    "a=int(input(\"enter you number: \"))\n",
    "count=0\n",
    "for i in str(a):\n",
    "    count+=1\n",
    "    print(\"length is\", count)"
   ]
  },
  {
   "cell_type": "code",
   "execution_count": null,
   "metadata": {},
   "outputs": [],
   "source": [
    "#write a python program to check whether a no is three digit no or not if no is three digit no or not if no is 3 digit \n",
    "a=int(input(\"enter your number: \"))"
   ]
  },
  {
   "cell_type": "code",
   "execution_count": 1,
   "metadata": {},
   "outputs": [
    {
     "name": "stdout",
     "output_type": "stream",
     "text": [
      "enter a working days: 30\n",
      "enter a absent days: 4\n",
      "2986.6666666666665\n"
     ]
    }
   ],
   "source": [
    "#write a python program to accpet to following from user and calculate percentage of class attendence.\n",
    "a=int(input(\"enter a working days: \"))\n",
    "b=int(input(\"enter a absent days: \"))\n",
    "percentage=(a-b/30)*100\n",
    "print(percentage)"
   ]
  },
  {
   "cell_type": "code",
   "execution_count": null,
   "metadata": {},
   "outputs": [],
   "source": []
  }
 ],
 "metadata": {
  "kernelspec": {
   "display_name": "Python 3",
   "language": "python",
   "name": "python3"
  },
  "language_info": {
   "codemirror_mode": {
    "name": "ipython",
    "version": 3
   },
   "file_extension": ".py",
   "mimetype": "text/x-python",
   "name": "python",
   "nbconvert_exporter": "python",
   "pygments_lexer": "ipython3",
   "version": "3.8.5"
  }
 },
 "nbformat": 4,
 "nbformat_minor": 4
}
