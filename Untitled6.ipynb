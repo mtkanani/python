{
 "cells": [
  {
   "cell_type": "code",
   "execution_count": 6,
   "metadata": {},
   "outputs": [
    {
     "name": "stdout",
     "output_type": "stream",
     "text": [
      "enter number7\n",
      "28\n"
     ]
    }
   ],
   "source": [
    "#wapp to sum one to n numbers n enter by user\n",
    "n=int(input(\"enter number\"))\n",
    "sum=0\n",
    "for i in range(1,n+1):\n",
    "    sum=sum+i\n",
    "print(sum)"
   ]
  },
  {
   "cell_type": "code",
   "execution_count": 10,
   "metadata": {},
   "outputs": [
    {
     "name": "stdout",
     "output_type": "stream",
     "text": [
      "1\n",
      "2\n",
      "4\n",
      "5\n"
     ]
    }
   ],
   "source": [
    "#wapp to print numbers from 1 to 6 except 3 and 6 \n",
    "for i in range(1,6):\n",
    "    if i%3==0:\n",
    "        continue\n",
    "    print(i)"
   ]
  },
  {
   "cell_type": "code",
   "execution_count": 5,
   "metadata": {},
   "outputs": [
    {
     "name": "stdout",
     "output_type": "stream",
     "text": [
      "enter number2356\n",
      "rev no: 6532\n"
     ]
    }
   ],
   "source": [
    "#wappp to reverse the number \n",
    "n=int(input(\"enter number\"))\n",
    "r_n=0\n",
    "while n!=0:\n",
    "    d=n%10\n",
    "    r_n=r_n*10+d\n",
    "    n=n//10\n",
    "    \n",
    "print(\"rev no:\",r_n)\n"
   ]
  },
  {
   "cell_type": "code",
   "execution_count": 17,
   "metadata": {},
   "outputs": [
    {
     "name": "stdout",
     "output_type": "stream",
     "text": [
      "enter number151\n",
      "okay bhai\n"
     ]
    }
   ],
   "source": [
    "#wappp to reverse the number \n",
    "n=int(input(\"enter number\"))\n",
    "r_n=0\n",
    "temp=n\n",
    "while n!=0:\n",
    "    d=n%10\n",
    "    r_n=r_n*10+d\n",
    "    n=n//10\n",
    "    \n",
    "if r_n==temp:\n",
    "    print('okay bhai')\n",
    "else:\n",
    "    print(\"java de bhadva\")"
   ]
  },
  {
   "cell_type": "code",
   "execution_count": 21,
   "metadata": {},
   "outputs": [
    {
     "name": "stdout",
     "output_type": "stream",
     "text": [
      "ava dyo medam... :123\n",
      "joi lo medam ready ne..? : 6\n"
     ]
    }
   ],
   "source": [
    "#wapp to print sum of given digit\n",
    "n=int(input(\"ava dyo medam... :\"))\n",
    "sum=0\n",
    "while n!=0:\n",
    "    d=n%10\n",
    "    sum=sum+d\n",
    "    n=n//10\n",
    "print(\"joi lo medam ready ne..? :\",sum)"
   ]
  },
  {
   "cell_type": "code",
   "execution_count": 25,
   "metadata": {},
   "outputs": [
    {
     "name": "stdout",
     "output_type": "stream",
     "text": [
      "ava de..:5\n",
      "0 1\n",
      "1\n",
      "2\n",
      "3\n"
     ]
    }
   ],
   "source": [
    "#wapp  to print fibonaki series\n",
    "n=int(input(\"ava de..:\"))\n",
    "n1=0\n",
    "n2=1\n",
    "if n==1:\n",
    "    print('seq=',n1)\n",
    "elif n==2:\n",
    "    print('seq = ',n1,n2)\n",
    "else:\n",
    "    print(n1,n2)\n",
    "    for i in range(n-2):\n",
    "        nth=n1+n2\n",
    "        n1=n2\n",
    "        n2=nth\n",
    "        print(nth)"
   ]
  },
  {
   "cell_type": "code",
   "execution_count": 27,
   "metadata": {},
   "outputs": [
    {
     "name": "stdout",
     "output_type": "stream",
     "text": [
      "ava de..:5\n",
      "120\n"
     ]
    }
   ],
   "source": [
    "#wapp to find factorial of a given number\n",
    "n=int(input(\"ava de..:\"))\n",
    "fact=1\n",
    "for i in range(1,n+1):\n",
    "    fact=fact*i\n",
    "print(fact)\n",
    "\n",
    "\n"
   ]
  },
  {
   "cell_type": "code",
   "execution_count": 40,
   "metadata": {},
   "outputs": [
    {
     "name": "stdout",
     "output_type": "stream",
     "text": [
      "kari nakh add153\n",
      "3\n",
      "Ha moj Haa...\n"
     ]
    }
   ],
   "source": [
    "#armstrong or not\n",
    "n=int(input(\"kari nakh add\"))\n",
    "t=n\n",
    "a=n\n",
    "s=0\n",
    "length=0\n",
    "while t!=0:\n",
    "    d=n%10\n",
    "    length=length+1\n",
    "    t=t//10\n",
    "print(length)\n",
    "while a!=0:\n",
    "    d1=a%10\n",
    "    s=s+(d1**length)\n",
    "    a=a//10\n",
    "if(s==n):\n",
    "    print(\"Ha moj Haa...\")\n",
    "else:\n",
    "    print(\"Takleef padi gai yar\")"
   ]
  },
  {
   "cell_type": "code",
   "execution_count": null,
   "metadata": {},
   "outputs": [],
   "source": []
  },
  {
   "cell_type": "code",
   "execution_count": null,
   "metadata": {},
   "outputs": [],
   "source": []
  }
 ],
 "metadata": {
  "kernelspec": {
   "display_name": "Python 3",
   "language": "python",
   "name": "python3"
  }
 },
 "nbformat": 4,
 "nbformat_minor": 4
}
