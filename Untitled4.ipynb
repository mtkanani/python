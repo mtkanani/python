{
 "cells": [
  {
   "cell_type": "code",
   "execution_count": null,
   "metadata": {},
   "outputs": [],
   "source": [
    "a=(input(\"enter value\"))\n",
    "t=str(a)\n",
    "t1=t*2\n",
    "t2=t*3\n",
    "print(t,'+',t1,'+',t2,'=',int(a)+int(t1)+int(t2))"
   ]
  },
  {
   "cell_type": "code",
   "execution_count": null,
   "metadata": {},
   "outputs": [],
   "source": []
  },
  {
   "cell_type": "code",
   "execution_count": 2,
   "metadata": {},
   "outputs": [
    {
     "name": "stdout",
     "output_type": "stream",
     "text": [
      "enter first number31\n",
      "enter second number4\n",
      "enter third number2024\n",
      "ascending :  4 31 2024\n",
      "Descending :  2024 31 4\n"
     ]
    }
   ],
   "source": [
    "#wapp to arrange three number in assending and disending order \n",
    "a=int(input(\"enter first number\"))\n",
    "b=int(input(\"enter second number\"))\n",
    "c=int(input(\"enter third number\"))\n",
    "if(a<b and a<c):\n",
    "    if(b<c):\n",
    "        x,y,z=a,b,c\n",
    "    else\n",
    "    x,y,z=a,c,b\n",
    "elif(b<a and b<c):\n",
    "    if(a<c):\n",
    "        x,y,z=b,a,c\n",
    "    else:\n",
    "        x,y,z=b,c,a\n",
    "else:\n",
    "    if(a<b):\n",
    "        x,y,z=c,a,b\n",
    "    else:\n",
    "        x,y,z=c,b,a\n",
    "print(\"asending : \",x,y,z)\n",
    "print(\"Descending : \",z,y,x)"
   ]
  },
  {
   "cell_type": "code",
   "execution_count": 1,
   "metadata": {},
   "outputs": [
    {
     "name": "stdout",
     "output_type": "stream",
     "text": [
      "enter date31\n",
      "enter month2\n",
      "enter year2024\n",
      "daate is invalid\n"
     ]
    }
   ],
   "source": [
    "d=int(input(\"enter date\"))\n",
    "m=int(input(\"enter month\"))\n",
    "y=int(input(\"enter year\"))\n",
    "if(m==1 or m==3 or m==5 or m==7 or m==8 or m==10 or m==12):\n",
    "    max=31\n",
    "elif(m==4 or m==6 or m==9 or m==11):\n",
    "    max=30\n",
    "elif(y%4==0 and y%100!=0) or (y%400==0):\n",
    "    max=29\n",
    "else:\n",
    "    max=28\n",
    "if (m<1 or m>12):\n",
    "    print(\"date is invalid\")\n",
    "elif(d<1 or d>max):\n",
    "    print(\"daate is invalid\")\n",
    "elif(d==max and m!=12):\n",
    "    d=1\n",
    "    m+=1\n",
    "    print(d,'/',m,'/',y)\n",
    "elif (d==31 and m==12):\n",
    "    d=1\n",
    "    m=1\n",
    "    y+=1\n",
    "    print(d,'/',m,'/',y)\n",
    "else:\n",
    "    d+=1\n",
    "    print(d,'/',m,'/',y)\n"
   ]
  },
  {
   "cell_type": "code",
   "execution_count": null,
   "metadata": {},
   "outputs": [],
   "source": []
  },
  {
   "cell_type": "code",
   "execution_count": 3,
   "metadata": {},
   "outputs": [
    {
     "name": "stdout",
     "output_type": "stream",
     "text": [
      "enter cents86\n",
      "3 quarter 1 dime 0 nickel 1 pennies\n"
     ]
    }
   ],
   "source": [
    "q,d,n,p,=0,0,0,0\n",
    "c=int(input(\"enter cents\"))\n",
    "q=c//25\n",
    "c%=25\n",
    "d=c//10\n",
    "c%=10\n",
    "n=c//5\n",
    "c%=5\n",
    "p=c\n",
    "print(q,'quarter',d,'dime',n,'nickel',p,'pennies')\n"
   ]
  },
  {
   "cell_type": "code",
   "execution_count": null,
   "metadata": {},
   "outputs": [],
   "source": [
    "u=int(input(\"enter unit\"))\n",
    "u=u//150\n",
    "print()"
   ]
  }
 ],
 "metadata": {
  "kernelspec": {
   "display_name": "Python 3",
   "language": "python",
   "name": "python3"
  },
  "language_info": {
   "codemirror_mode": {
    "name": "ipython",
    "version": 3
   },
   "file_extension": ".py",
   "mimetype": "text/x-python",
   "name": "python",
   "nbconvert_exporter": "python",
   "pygments_lexer": "ipython3",
   "version": "3.8.5"
  }
 },
 "nbformat": 4,
 "nbformat_minor": 4
}
