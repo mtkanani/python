{
 "cells": [
  {
   "cell_type": "code",
   "execution_count": null,
   "metadata": {},
   "outputs": [],
   "source": [
    "def func(n):\n",
    "    print(n)\n",
    "func(20)\n",
    "func(\"a\")"
   ]
  },
  {
   "cell_type": "code",
   "execution_count": null,
   "metadata": {},
   "outputs": [],
   "source": [
    "def printline():\n",
    "    s=input(\"ENTER NAME :\")\n",
    "    print(s)\n",
    "printline()"
   ]
  },
  {
   "cell_type": "code",
   "execution_count": null,
   "metadata": {},
   "outputs": [],
   "source": [
    "def printline(s):\n",
    "    print(s)\n",
    "s=input(\"enter name : \")\n",
    "printline(s)"
   ]
  },
  {
   "cell_type": "code",
   "execution_count": null,
   "metadata": {},
   "outputs": [],
   "source": [
    "def printline():\n",
    "    s=input(\"NAME : \")\n",
    "    return(s)\n",
    "printline()"
   ]
  },
  {
   "cell_type": "code",
   "execution_count": null,
   "metadata": {},
   "outputs": [],
   "source": [
    "def printline(s):\n",
    "    return(s)\n",
    "s=input(\"name : \")\n",
    "printline(s)"
   ]
  },
  {
   "cell_type": "code",
   "execution_count": null,
   "metadata": {},
   "outputs": [],
   "source": [
    "def printline(a,b):\n",
    "    sum=a+b\n",
    "    mul=a*b\n",
    "    sub=a-b\n",
    "    return sum,mul,sub\n",
    "x,y,z=printline(20,10)\n",
    "print(x)\n",
    "print(y)\n",
    "print(z)    "
   ]
  },
  {
   "cell_type": "code",
   "execution_count": null,
   "metadata": {},
   "outputs": [],
   "source": [
    "#doc$tring\n",
    "def printline(a,b):\n",
    "    \"\"\"abc \n",
    "       xyz 8 information\"\"\"\n",
    "    print(\"addition\")\n",
    "print(printline.__doc__)"
   ]
  },
  {
   "cell_type": "code",
   "execution_count": null,
   "metadata": {},
   "outputs": [],
   "source": [
    "def add(a,b):\n",
    "    print(a+b)\n",
    "#positional argument\n",
    "add(10,30)\n",
    "add(30,40)\n",
    "#keyword argument\n",
    "def wish(name,msg):\n",
    "    print(\"hello\",name,msg)\n",
    "wish(name=\"MT\",msg=\"Ava de..\")\n",
    "wish(\"MT\",msg=\"ava de\")\n",
    "wish(\"ava de\",name=\"mt\")\n"
   ]
  },
  {
   "cell_type": "code",
   "execution_count": null,
   "metadata": {},
   "outputs": [],
   "source": [
    "#default argument\n",
    "def wish(name=\"guest\"):\n",
    "    print(\"hi\",name)\n",
    "wish()\n",
    "wish('arman')"
   ]
  },
  {
   "cell_type": "code",
   "execution_count": null,
   "metadata": {},
   "outputs": [],
   "source": [
    "#variable length arguent\n",
    "def f1(*n):\n",
    "    t=0\n",
    "    for i in n:\n",
    "        t+=i\n",
    "    print(t)\n",
    "f1(10)\n",
    "f1(10,20)\n",
    "f1(10,20,30,40,50,60)\n",
    "print()\n",
    "\n",
    "def f2(n,*s):\n",
    "    print(n)\n",
    "    print(s)\n",
    "    for i in s:\n",
    "        print(i)\n",
    "f2(10)\n",
    "f2(10,'a','b',30)\n",
    "print()\n",
    "\n",
    "def f3(*s,n):\n",
    "    print(s)\n",
    "    print(n)\n",
    "f3('a','b',n=10)\n",
    "f3('a','b',10)"
   ]
  },
  {
   "cell_type": "code",
   "execution_count": null,
   "metadata": {},
   "outputs": [],
   "source": [
    "#types of variable\n",
    "# for local vriable\n",
    "a=10\n",
    "def f1():\n",
    "    print(a)\n",
    "def f2():\n",
    "    print(a)\n",
    "f1()\n",
    "f2()\n",
    "\n"
   ]
  },
  {
   "cell_type": "code",
   "execution_count": 1,
   "metadata": {},
   "outputs": [
    {
     "name": "stdout",
     "output_type": "stream",
     "text": [
      "20\n"
     ]
    },
    {
     "ename": "NameError",
     "evalue": "name 'a' is not defined",
     "output_type": "error",
     "traceback": [
      "\u001b[1;31m---------------------------------------------------------------------------\u001b[0m",
      "\u001b[1;31mNameError\u001b[0m                                 Traceback (most recent call last)",
      "\u001b[1;32m<ipython-input-1-61cafcb97c52>\u001b[0m in \u001b[0;36m<module>\u001b[1;34m\u001b[0m\n\u001b[0;32m      7\u001b[0m     \u001b[0mprint\u001b[0m\u001b[1;33m(\u001b[0m\u001b[0ma\u001b[0m\u001b[1;33m)\u001b[0m\u001b[1;33m\u001b[0m\u001b[1;33m\u001b[0m\u001b[0m\n\u001b[0;32m      8\u001b[0m \u001b[0mf11\u001b[0m\u001b[1;33m(\u001b[0m\u001b[1;33m)\u001b[0m\u001b[1;33m\u001b[0m\u001b[1;33m\u001b[0m\u001b[0m\n\u001b[1;32m----> 9\u001b[1;33m \u001b[0mf22\u001b[0m\u001b[1;33m(\u001b[0m\u001b[1;33m)\u001b[0m\u001b[1;33m\u001b[0m\u001b[1;33m\u001b[0m\u001b[0m\n\u001b[0m",
      "\u001b[1;32m<ipython-input-1-61cafcb97c52>\u001b[0m in \u001b[0;36mf22\u001b[1;34m()\u001b[0m\n\u001b[0;32m      5\u001b[0m     \u001b[0mprint\u001b[0m\u001b[1;33m(\u001b[0m\u001b[0ma\u001b[0m\u001b[1;33m)\u001b[0m\u001b[1;33m\u001b[0m\u001b[1;33m\u001b[0m\u001b[0m\n\u001b[0;32m      6\u001b[0m \u001b[1;32mdef\u001b[0m \u001b[0mf22\u001b[0m\u001b[1;33m(\u001b[0m\u001b[1;33m)\u001b[0m\u001b[1;33m:\u001b[0m\u001b[1;33m\u001b[0m\u001b[1;33m\u001b[0m\u001b[0m\n\u001b[1;32m----> 7\u001b[1;33m     \u001b[0mprint\u001b[0m\u001b[1;33m(\u001b[0m\u001b[0ma\u001b[0m\u001b[1;33m)\u001b[0m\u001b[1;33m\u001b[0m\u001b[1;33m\u001b[0m\u001b[0m\n\u001b[0m\u001b[0;32m      8\u001b[0m \u001b[0mf11\u001b[0m\u001b[1;33m(\u001b[0m\u001b[1;33m)\u001b[0m\u001b[1;33m\u001b[0m\u001b[1;33m\u001b[0m\u001b[0m\n\u001b[0;32m      9\u001b[0m \u001b[0mf22\u001b[0m\u001b[1;33m(\u001b[0m\u001b[1;33m)\u001b[0m\u001b[1;33m\u001b[0m\u001b[1;33m\u001b[0m\u001b[0m\n",
      "\u001b[1;31mNameError\u001b[0m: name 'a' is not defined"
     ]
    }
   ],
   "source": [
    "#for global\n",
    "\n",
    "def f11():\n",
    "    a=20\n",
    "    print(a)\n",
    "def f22():\n",
    "    print(a)\n",
    "f11()\n",
    "f22()\n"
   ]
  },
  {
   "cell_type": "code",
   "execution_count": 8,
   "metadata": {},
   "outputs": [
    {
     "name": "stdout",
     "output_type": "stream",
     "text": [
      "number153\n",
      "DONE maro bhai\n"
     ]
    }
   ],
   "source": [
    "#wapp to check weather the enter number is armstrong or not using user define\n",
    "def fun(a):\n",
    "    n=a\n",
    "    y=a\n",
    "    c=0\n",
    "    s=0\n",
    "    \n",
    "    while(n>0):\n",
    "        c=c+1\n",
    "        n=n//10\n",
    "    while(y!=0):\n",
    "        r=y%10\n",
    "        s=s+(r**c)\n",
    "        y=y//10\n",
    "    if(s==a):\n",
    "        print(\"DONE maro bhai\")\n",
    "    else:\n",
    "        print(\"java de ayy\")\n",
    "a=int(input(\"number\"))\n",
    "fun(a)\n",
    "        "
   ]
  },
  {
   "cell_type": "code",
   "execution_count": 14,
   "metadata": {},
   "outputs": [
    {
     "data": {
      "text/plain": [
       "120"
      ]
     },
     "execution_count": 14,
     "metadata": {},
     "output_type": "execute_result"
    }
   ],
   "source": [
    "#recurssion\n",
    "def fac(x):\n",
    "    if x==1 :\n",
    "        return 1\n",
    "    else:\n",
    "        return(x*fac(x-1))\n",
    "fac(5)"
   ]
  },
  {
   "cell_type": "code",
   "execution_count": 15,
   "metadata": {},
   "outputs": [
    {
     "name": "stdout",
     "output_type": "stream",
     "text": [
      "hello\n",
      "hello\n"
     ]
    }
   ],
   "source": [
    "#nestead function\n",
    "def outer(text):\n",
    "    t=text\n",
    "    print(t)\n",
    "    def innerfun():\n",
    "        print(text)\n",
    "    innerfun()\n",
    "outer('hello')"
   ]
  },
  {
   "cell_type": "code",
   "execution_count": null,
   "metadata": {},
   "outputs": [],
   "source": []
  }
 ],
 "metadata": {
  "kernelspec": {
   "display_name": "Python 3",
   "language": "python",
   "name": "python3"
  },
  "language_info": {
   "codemirror_mode": {
    "name": "ipython",
    "version": 3
   },
   "file_extension": ".py",
   "mimetype": "text/x-python",
   "name": "python",
   "nbconvert_exporter": "python",
   "pygments_lexer": "ipython3",
   "version": "3.8.5"
  }
 },
 "nbformat": 4,
 "nbformat_minor": 4
}
